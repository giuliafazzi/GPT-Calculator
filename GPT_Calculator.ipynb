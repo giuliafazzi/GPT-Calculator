{
  "nbformat": 4,
  "nbformat_minor": 0,
  "metadata": {
    "colab": {
      "provenance": [],
      "authorship_tag": "ABX9TyNaSM+gftEqgs8kzPiUTbVH",
      "include_colab_link": true
    },
    "kernelspec": {
      "name": "python3",
      "display_name": "Python 3"
    },
    "language_info": {
      "name": "python"
    }
  },
  "cells": [
    {
      "cell_type": "markdown",
      "metadata": {
        "id": "view-in-github",
        "colab_type": "text"
      },
      "source": [
        "<a href=\"https://colab.research.google.com/github/giuliafazzi/GPT-Calculator/blob/main/GPT_Calculator.ipynb\" target=\"_parent\"><img src=\"https://colab.research.google.com/assets/colab-badge.svg\" alt=\"Open In Colab\"/></a>"
      ]
    },
    {
      "cell_type": "markdown",
      "source": [
        "# **GPT Calculator**"
      ],
      "metadata": {
        "id": "8pVdC1xVxHSG"
      }
    },
    {
      "cell_type": "markdown",
      "source": [
        "## 🖥️ **Setup environment**"
      ],
      "metadata": {
        "id": "MaOOOeVXxN-A"
      }
    },
    {
      "cell_type": "markdown",
      "source": [
        "### **Install packages**"
      ],
      "metadata": {
        "id": "oapD6Jx6xSFb"
      }
    },
    {
      "cell_type": "code",
      "execution_count": 14,
      "metadata": {
        "colab": {
          "base_uri": "https://localhost:8080/"
        },
        "id": "1lTQ9q-GxADb",
        "outputId": "f77f5d9b-6b19-4d5d-c67a-1e8e793705a2"
      },
      "outputs": [
        {
          "output_type": "stream",
          "name": "stdout",
          "text": [
            "Requirement already satisfied: tiktoken in /usr/local/lib/python3.10/dist-packages (0.8.0)\n",
            "Requirement already satisfied: regex>=2022.1.18 in /usr/local/lib/python3.10/dist-packages (from tiktoken) (2024.9.11)\n",
            "Requirement already satisfied: requests>=2.26.0 in /usr/local/lib/python3.10/dist-packages (from tiktoken) (2.32.3)\n",
            "Requirement already satisfied: charset-normalizer<4,>=2 in /usr/local/lib/python3.10/dist-packages (from requests>=2.26.0->tiktoken) (3.4.0)\n",
            "Requirement already satisfied: idna<4,>=2.5 in /usr/local/lib/python3.10/dist-packages (from requests>=2.26.0->tiktoken) (3.10)\n",
            "Requirement already satisfied: urllib3<3,>=1.21.1 in /usr/local/lib/python3.10/dist-packages (from requests>=2.26.0->tiktoken) (2.2.3)\n",
            "Requirement already satisfied: certifi>=2017.4.17 in /usr/local/lib/python3.10/dist-packages (from requests>=2.26.0->tiktoken) (2024.8.30)\n"
          ]
        }
      ],
      "source": [
        "!pip install  tiktoken"
      ]
    },
    {
      "cell_type": "markdown",
      "source": [
        "### **Import libraries**"
      ],
      "metadata": {
        "id": "0e7IbqxCxUje"
      }
    },
    {
      "cell_type": "code",
      "source": [
        "import tiktoken"
      ],
      "metadata": {
        "id": "KXLn76wsxXnD"
      },
      "execution_count": 3,
      "outputs": []
    },
    {
      "cell_type": "markdown",
      "source": [
        "### **Define variables**"
      ],
      "metadata": {
        "id": "aMiOjJ3fxbjk"
      }
    },
    {
      "cell_type": "code",
      "source": [
        "model_pricing = {\n",
        "    'gpt-4o': {\n",
        "      'prompt': 0.0025,\n",
        "      'completion': 0.010,\n",
        "    },\n",
        "    'gpt-4o-2024-08-06': {\n",
        "      'prompt': 0.0025,\n",
        "      'completion': 0.010,\n",
        "    },\n",
        "    'gpt-4o-2024-05-13': {\n",
        "      'prompt': 0.005,\n",
        "      'completion': 0.015,\n",
        "    },\n",
        "    'gpt-4o-mini': {\n",
        "      'prompt': 0.00015,\n",
        "      'completion': 0.0006,\n",
        "    },\n",
        "    'gpt-4o-mini-2024-07-18': {\n",
        "      'prompt': 0.00015,\n",
        "      'completion': 0.0006,\n",
        "    },\n",
        "    'o1-preview': {\n",
        "      'prompt': 0.015,\n",
        "      'completion': 0.060,\n",
        "    },\n",
        "    'o1-preview-2024-09-12': {\n",
        "      'prompt': 0.015,\n",
        "      'completion': 0.060,\n",
        "    },\n",
        "    'o1-mini': {\n",
        "      'prompt': 0.003,\n",
        "      'completion': 0.012,\n",
        "    },\n",
        "    'o1-mini-2024-09-12': {\n",
        "      'prompt': 0.003,\n",
        "      'completion': 0.012,\n",
        "    },\n",
        "    'chatgpt-4o-latest': {\n",
        "      'prompt': 0.005,\n",
        "      'completion': 0.015,\n",
        "    },\n",
        "    'gpt-4-turbo': {\n",
        "      'prompt': 0.010,\n",
        "      'completion': 0.030,\n",
        "    },\n",
        "    'gpt-4-turbo-2024-04-09': {\n",
        "      'prompt': 0.010,\n",
        "      'completion': 0.030,\n",
        "    },\n",
        "    'gpt-4': {\n",
        "      'prompt': 0.030,\n",
        "      'completion': 0.060,\n",
        "    },\n",
        "    'gpt-4-32k': {\n",
        "      'prompt': 0.060,\n",
        "      'completion': 0.120,\n",
        "    },\n",
        "    'gpt-4-0125-preview': {\n",
        "      'prompt': 0.010,\n",
        "      'completion': 0.030,\n",
        "    },\n",
        "    'gpt-4-1106-preview': {\n",
        "      'prompt': 0.010,\n",
        "      'completion': 0.030,\n",
        "    },\n",
        "    'gpt-4-vision-preview': {\n",
        "      'prompt': 0.010,\n",
        "      'completion': 0.030,\n",
        "    },\n",
        "    'gpt-3.5-turbo-0125': {\n",
        "      'prompt': 0.0005,\n",
        "      'completion': 0.0015,\n",
        "    },\n",
        "    'gpt-3.5-turbo-instruct': {\n",
        "      'prompt': 0.0015,\n",
        "      'completion': 0.002,\n",
        "    },\n",
        "    'gpt-3.5-turbo-1106': {\n",
        "      'prompt': 0.001,\n",
        "      'completion': 0.002,\n",
        "    },\n",
        "    'gpt-3.5-turbo-0613': {\n",
        "      'prompt': 0.0015,\n",
        "      'completion': 0.002,\n",
        "    },\n",
        "    'gpt-3.5-turbo-16k-0613': {\n",
        "      'prompt': 0.003,\n",
        "      'completion': 0.004,\n",
        "    },\n",
        "    'gpt-3.5-turbo-0301': {\n",
        "      'prompt': 0.0015,\n",
        "      'completion': 0.002,\n",
        "    },\n",
        "    'davinci-002': {\n",
        "      'prompt': 0.002,\n",
        "      'completion': 0.002,\n",
        "    },\n",
        "    'babbage-002': {\n",
        "      'prompt': 0.0004,\n",
        "      'completion': 0.0004,\n",
        "    },\n",
        "\n",
        "    # Embeddings\n",
        "    'text-embedding-3-small': {\n",
        "      'prompt': 0.00002,\n",
        "      'completion': 0.00002,\n",
        "    },\n",
        "    'text-embedding-3-large': {\n",
        "      'prompt': 0.00013,\n",
        "      'completion': 0.00013,\n",
        "    },\n",
        "    'ada v2': {\n",
        "      'prompt': 0.0001,\n",
        "      'completion': 0.0001,\n",
        "    }\n",
        "}"
      ],
      "metadata": {
        "id": "rTadGpV9xcJh"
      },
      "execution_count": 20,
      "outputs": []
    },
    {
      "cell_type": "markdown",
      "source": [
        "## 🧑‍💻 **Define functions**"
      ],
      "metadata": {
        "id": "p5RHa9zZxgag"
      }
    },
    {
      "cell_type": "code",
      "source": [
        "def estimate_tokens(input_text, model):\n",
        "  try:\n",
        "    encoding = tiktoken.encoding_for_model(model)\n",
        "  except:\n",
        "    raise ValueError(\"Unsupported model\")\n",
        "\n",
        "  num_tokens = len(encoding.encode(input_text))\n",
        "\n",
        "  return num_tokens"
      ],
      "metadata": {
        "id": "jnCRQtzz1Ukk"
      },
      "execution_count": 15,
      "outputs": []
    },
    {
      "cell_type": "code",
      "source": [
        "def estimate_input_cost(input_text, model):\n",
        "  num_tokens = estimate_tokens(input_text, model)\n",
        "  cost_per_thousand_tokens = model_pricing[model][\"prompt\"]\n",
        "  cost = (num_tokens / 1000) * cost_per_thousand_tokens\n",
        "\n",
        "  return round(cost, 4)"
      ],
      "metadata": {
        "id": "Pj7TpBtJxf6z"
      },
      "execution_count": 16,
      "outputs": []
    },
    {
      "cell_type": "code",
      "source": [
        "def estimate_output_cost(input_text, model):\n",
        "  num_tokens = estimate_tokens(input_text, model)\n",
        "  cost_per_thousand_tokens = model_pricing[model][\"completion\"]\n",
        "  cost = (num_tokens / 1000) * cost_per_thousand_tokens\n",
        "\n",
        "  return round(cost, 4)"
      ],
      "metadata": {
        "id": "5a4Y-ey823KT"
      },
      "execution_count": 17,
      "outputs": []
    },
    {
      "cell_type": "markdown",
      "source": [
        "## ▶️ **Run**"
      ],
      "metadata": {
        "id": "XrNMrIj9xk0y"
      }
    },
    {
      "cell_type": "code",
      "source": [
        "model = 'gpt-4-32k'\n",
        "input_text = \"Hey ChatGPT. Please write a function to calculate the area of a square in Python.\"\n",
        "input_cost = estimate_input_cost(input_text, model)\n",
        "print(f\"Estimated cost: ${input_cost}\")"
      ],
      "metadata": {
        "colab": {
          "base_uri": "https://localhost:8080/"
        },
        "id": "GQ1tSg1gxlm6",
        "outputId": "66270f21-1402-4acf-d0fc-8d4c90bcedae"
      },
      "execution_count": 21,
      "outputs": [
        {
          "output_type": "stream",
          "name": "stdout",
          "text": [
            "Estimated cost: $0.0011\n"
          ]
        }
      ]
    }
  ]
}